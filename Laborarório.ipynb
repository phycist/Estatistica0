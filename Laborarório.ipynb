{
 "cells": [
  {
   "cell_type": "code",
   "execution_count": 1,
   "id": "40953791-c86e-41b3-87cf-d8e32b707939",
   "metadata": {},
   "outputs": [
    {
     "name": "stdout",
     "output_type": "stream",
     "text": [
      "            Help do analisador \n",
      "#####################################################################################################\n",
      "                Antes de qualquer analise\n",
      "                ################################\n",
      "                 #criação de lab simples\n",
      "-----------------------------------------------------------\n",
      "Como padão usramos o arquivo basededados.xlsx\n",
      "--> Simples criação de uma análise\n",
      "lab=Lab()\n",
      "                            funções que temos: \n",
      "                            *******************\n",
      "        *projeções\n",
      "*************************\n",
      "lab.read_xls\n",
      "lab.data_frame_ajust\n",
      "lab.gerar_projecao_usarios_sessoes\n",
      "lab.gerar_projecao_novos_usarios_sessoes\n",
      "\n",
      "        *estatística\n",
      "****************************\n",
      "lab.Medida_Desvio_padrao\n",
      "lab.Propabilidades_Usuarios\n",
      "\n",
      "*       *Simulações\n",
      "***************************\n",
      "lab.sim\n",
      "######################################################################################################\n",
      "     Você pode obter este help a qualquer momento este help dado o comando\n",
      "     lab.help()\n",
      "######################################################################################################\n",
      "\n"
     ]
    }
   ],
   "source": [
    "from lab import *"
   ]
  },
  {
   "cell_type": "code",
   "execution_count": null,
   "id": "a496d506-7980-470c-b0ee-35a194baca6c",
   "metadata": {},
   "outputs": [],
   "source": []
  }
 ],
 "metadata": {
  "kernelspec": {
   "display_name": "Python 3",
   "language": "python",
   "name": "python3"
  },
  "language_info": {
   "codemirror_mode": {
    "name": "ipython",
    "version": 3
   },
   "file_extension": ".py",
   "mimetype": "text/x-python",
   "name": "python",
   "nbconvert_exporter": "python",
   "pygments_lexer": "ipython3",
   "version": "3.8.10"
  }
 },
 "nbformat": 4,
 "nbformat_minor": 5
}
